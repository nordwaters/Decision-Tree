{
 "cells": [
  {
   "cell_type": "code",
   "execution_count": 1,
   "metadata": {},
   "outputs": [],
   "source": [
    "import pandas as pd\n",
    "import numpy as np\n"
   ]
  },
  {
   "cell_type": "code",
   "execution_count": 4,
   "metadata": {},
   "outputs": [],
   "source": [
    "# Creating the class Node\n",
    "\n",
    "class Node:\n",
    "    def __init__(self, feature=None, split=None, left=None, right=None, label=None):\n",
    "        self.feature = feature\n",
    "        self.split = split\n",
    "        self.left = left\n",
    "        self.right = right\n",
    "        self.label = label"
   ]
  },
  {
   "cell_type": "code",
   "execution_count": 5,
   "metadata": {},
   "outputs": [],
   "source": [
    "# Creating the class Decision Tree\n",
    "class DecisionTree:\n",
    "    def __init__(self, max_depth=None, min_samples_split=2):\n",
    "        self.max_depth = max_depth\n",
    "        self.min_samples_split = min_samples_split\n",
    "        \n",
    "    def fit(self, X, y):\n",
    "        self.tree = self._build_tree(X, y)\n",
    "        \n",
    "    def _build_tree(self, X, y, depth=0):\n",
    "        num_samples, num_features = X.shape\n",
    "        num_labels = len(np.unique(y))\n",
    "        \n",
    "        if depth == self.max_depth or num_samples < self.min_samples_split or num_labels == 1:\n",
    "            label = self._most_common_label(y)\n",
    "            return Node(label=label)\n",
    "        \n",
    "        best_feature, best_split = self._find_best_split(X, y, num_samples, num_features)\n",
    "        left_idx = np.where(X[:, best_feature] < best_split)\n",
    "        right_idx = np.where(X[:, best_feature] >= best_split)\n",
    "        left = self._build_tree(X[left_idx], y[left_idx], depth + 1)\n",
    "        right = self._build_tree(X[right_idx], y[right_idx], depth + 1)\n",
    "        \n",
    "        return Node(feature=best_feature, split=best_split, left=left, right=right)\n",
    "    \n",
    "    def _find_best_split(self, X, y, num_samples, num_features):\n",
    "        best_gini = float(\"inf\")\n",
    "        best_feature = None\n",
    "        best_split = None\n",
    "        \n",
    "        for feature in range(num_features):\n",
    "            feature_values = X[:, feature]\n",
    "            possible_splits = np.unique(feature_values)\n",
    "            for split in possible_splits:\n",
    "                left_idx = np.where(feature_values < split)\n",
    "                right_idx = np.where(feature_values >= split)\n",
    "                left_labels = y[left_idx]\n",
    "                right_labels = y[right_idx]\n",
    "                gini = self._gini_index(left_labels, right_labels, num_samples)\n",
    "                if gini < best_gini:\n",
    "                    best_gini = gini\n",
    "                    best_feature = feature\n",
    "                    best_split = split\n",
    "                    \n",
    "        return best_feature, best_split\n",
    "    \n",
    "    def _gini_index(self, left_labels, right_labels, num_samples):\n",
    "        p_left = len(left_labels) / num_samples\n",
    "        p_right = len(right_labels) / num_samples\n",
    "        gini_left = 1.0 - sum((np.unique(left_labels, return_counts=True)[1] / len(left_labels))**2)\n",
    "        gini_right = 1.0 - sum((np.unique(right_labels, return_counts=True)[1] / len(right_labels))**2)\n",
    "        gini = p_left * gini_left + p_right * gini_right\n",
    "        return gini\n",
    "    \n",
    "    def _most_common_label(self, y):\n",
    "        labels, counts = np.unique(y, return_counts=True)\n",
    "        return labels[np.argmax(counts)]\n",
    "    \n",
    "    def predict(self, X):\n",
    "        return np.array([self._traverse_tree(x, self.tree) for x in X])\n",
    "    \n",
    "    def _traverse_tree(self, x, node):\n",
    "        if node.label is not None:\n",
    "            return node.label\n",
    "        if x[node.feature] < node.split:\n",
    "            return self._traverse_tree(x, node.left)\n",
    "        else:\n",
    "            return self._traverse_tree(x, node.right)"
   ]
  },
  {
   "cell_type": "code",
   "execution_count": 6,
   "metadata": {},
   "outputs": [
    {
     "name": "stdout",
     "output_type": "stream",
     "text": [
      "[2 4 6]\n"
     ]
    }
   ],
   "source": [
    "# Model checking\n",
    "\n",
    "X = np.array([[1, 2], [3, 4], [5, 6]])\n",
    "y = np.array([2, 4, 6])\n",
    "model = DecisionTree()\n",
    "model.fit(X, y)\n",
    "y_pred = model.predict(X)\n",
    "print(y_pred)"
   ]
  },
  {
   "cell_type": "code",
   "execution_count": null,
   "metadata": {},
   "outputs": [],
   "source": []
  }
 ],
 "metadata": {
  "kernelspec": {
   "display_name": "Python 3",
   "language": "python",
   "name": "python3"
  },
  "language_info": {
   "codemirror_mode": {
    "name": "ipython",
    "version": 3
   },
   "file_extension": ".py",
   "mimetype": "text/x-python",
   "name": "python",
   "nbconvert_exporter": "python",
   "pygments_lexer": "ipython3",
   "version": "3.10.5"
  },
  "orig_nbformat": 4,
  "vscode": {
   "interpreter": {
    "hash": "26de051ba29f2982a8de78e945f0abaf191376122a1563185a90213a26c5da77"
   }
  }
 },
 "nbformat": 4,
 "nbformat_minor": 2
}
